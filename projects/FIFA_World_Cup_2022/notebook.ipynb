{
 "cells": [
  {
   "cell_type": "code",
   "execution_count": 1,
   "metadata": {},
   "outputs": [],
   "source": [
    "from tournament import Tournament\n",
    "import pandas as pd\n",
    "import json\n",
    "\n",
    "df = pd.DataFrame(columns=[\"Team\",\"1st Group\",\"2nd Group\",\"8th Finals\",\"4th Finals\",\"Semi Finals\", \"Final\", \"Winner\", \"Third\"])\n",
    "\n",
    "probs = {}\n",
    "\n",
    "with open(\"groups.json\") as f:\n",
    "    data = json.loads(f.read())\n",
    "    \n",
    "teams_stats = { item:{\"1st Group\":0,\"2nd Group\":0,\"8th Finals\":0,\"4th Finals\":0,\"Semi Finals\":0, \"Final\":0, \"Winner\":0, \"Third\":0} for i in data.values() for item in i}\n"
   ]
  },
  {
   "cell_type": "code",
   "execution_count": 2,
   "metadata": {},
   "outputs": [
    {
     "name": "stdout",
     "output_type": "stream",
     "text": [
      "\n",
      "\n",
      "Starting tournament\n",
      "\n",
      "\n",
      "\n",
      "Group games finished\n",
      "\n",
      "\n",
      "\n",
      "8th Finals finished\n",
      "\n",
      "\n",
      "\n",
      "Quarter Finals finished\n",
      "\n",
      "\n",
      "\n",
      "Semi Finals finished\n",
      "\n",
      "Classified teams [['senegal', 'netherlands'], 'A', ['iran', 'usa'], 'B', ['argentina', 'saudi-arabia'], 'C', ['france', 'australia'], 'D', ['costa-rica', 'spain'], 'E', ['croatia', 'canada'], 'F', ['serbia', 'cameroon'], 'G', ['portugal', 'ghana'], 'H']\n",
      "8th Finals teams ['senegal', 'argentina', 'netherlands', 'saudi-arabia', 'canada', 'ghana', 'croatia', 'cameroon']\n",
      "4th Finals teams ['argentina', 'saudi-arabia', 'ghana', 'croatia']\n",
      "Third Place:  croatia\n",
      "Second Place:  ghana\n",
      "Winner:  argentina\n",
      "\n",
      "\n",
      "Starting tournament\n",
      "\n",
      "\n",
      "\n",
      "Group games finished\n",
      "\n",
      "\n",
      "\n",
      "8th Finals finished\n",
      "\n",
      "\n",
      "\n",
      "Quarter Finals finished\n",
      "\n",
      "\n",
      "\n",
      "Semi Finals finished\n",
      "\n",
      "Classified teams [['qatar', 'ecuador'], 'A', ['wales', 'usa'], 'B', ['saudi-arabia', 'mexico'], 'C', ['australia', 'denmark'], 'D', ['costa-rica', 'germany'], 'E', ['morocco', 'belgium'], 'F', ['serbia', 'switzerland'], 'G', ['ghana', 'south-korea'], 'H']\n",
      "8th Finals teams ['qatar', 'denmark', 'wales', 'australia', 'costa-rica', 'serbia', 'morocco', 'switzerland']\n",
      "4th Finals teams ['denmark', 'australia', 'costa-rica', 'switzerland']\n",
      "Third Place:  australia\n",
      "Second Place:  denmark\n",
      "Winner:  switzerland\n",
      "\n",
      "\n",
      "Starting tournament\n",
      "\n",
      "\r"
     ]
    }
   ],
   "source": [
    "iterations = 250\n",
    "\n",
    "for i in range(iterations):  \n",
    "    t = Tournament()\n",
    "    groups,t_8th,t_4,t_semi,t_final,win = t.run()\n",
    "    \n",
    "    for i in groups:\n",
    "        for no,team in enumerate(i[0]):\n",
    "            teams_stats[team][\"8th Finals\"] += 1\n",
    "            if no == 0:\n",
    "                teams_stats[team][\"1st Group\"] += 1\n",
    "            else:\n",
    "                teams_stats[team][\"2nd Group\"] += 1\n",
    "    for t in t_8th:\n",
    "        teams_stats[t.team_name]['4th Finals'] += 1\n",
    "    for t in t_4:\n",
    "        teams_stats[t.team_name]['Semi Finals'] += 1\n",
    "    for t in t_semi[1]:\n",
    "        teams_stats[t]['Third'] += 1\n",
    "    for t in t_final:\n",
    "        teams_stats[t.team_name][\"Final\"] += 1\n",
    "    teams_stats[win.team_name][\"Winner\"] += 1 \n",
    "\n",
    "for t in teams_stats:\n",
    "    for attr in teams_stats[t]:\n",
    "        teams_stats[t][attr] /= iterations\n",
    "\n",
    "teams_stats\n",
    "    \n",
    "    "
   ]
  },
  {
   "cell_type": "code",
   "execution_count": null,
   "metadata": {},
   "outputs": [],
   "source": [
    "with open('resuts.json', \"w\") as f:\n",
    "    f.write(json.dumps(teams_stats))"
   ]
  },
  {
   "cell_type": "code",
   "execution_count": null,
   "metadata": {},
   "outputs": [
    {
     "data": {
      "text/plain": [
       "'france'"
      ]
     },
     "execution_count": 4,
     "metadata": {},
     "output_type": "execute_result"
    }
   ],
   "source": [
    "win.team_name"
   ]
  },
  {
   "cell_type": "code",
   "execution_count": null,
   "metadata": {},
   "outputs": [
    {
     "data": {
      "text/plain": [
       "[<team.Team at 0x7efdf8701940>, <team.Team at 0x7efdf8755c70>]"
      ]
     },
     "execution_count": 5,
     "metadata": {},
     "output_type": "execute_result"
    }
   ],
   "source": [
    "t_final"
   ]
  },
  {
   "cell_type": "code",
   "execution_count": null,
   "metadata": {},
   "outputs": [],
   "source": []
  }
 ],
 "metadata": {
  "kernelspec": {
   "display_name": "Python 3.9.7 ('base')",
   "language": "python",
   "name": "python3"
  },
  "language_info": {
   "codemirror_mode": {
    "name": "ipython",
    "version": 3
   },
   "file_extension": ".py",
   "mimetype": "text/x-python",
   "name": "python",
   "nbconvert_exporter": "python",
   "pygments_lexer": "ipython3",
   "version": "3.11.4"
  },
  "orig_nbformat": 4,
  "vscode": {
   "interpreter": {
    "hash": "588779d6ef7e6f81e2169a879779fc8e5995f47f76c0b461de7632fa84667fbc"
   }
  }
 },
 "nbformat": 4,
 "nbformat_minor": 2
}
