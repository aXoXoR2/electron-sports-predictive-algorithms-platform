{
 "cells": [
  {
   "cell_type": "code",
   "execution_count": 61,
   "metadata": {},
   "outputs": [],
   "source": [
    "import seaborn as sns\n",
    "import pandas as pd\n",
    "import json"
   ]
  },
  {
   "cell_type": "code",
   "execution_count": 62,
   "metadata": {},
   "outputs": [
    {
     "data": {
      "text/plain": [
       "{'A': ['qatar', 'ecuador', 'senegal', 'netherlands'],\n",
       " 'B': ['england', 'iran', 'usa', 'wales'],\n",
       " 'C': ['argentina', 'saudi-arabia', 'mexico', 'poland'],\n",
       " 'D': ['france', 'australia', 'denmark', 'tunisia'],\n",
       " 'E': ['spain', 'costa-rica', 'germany', 'japan'],\n",
       " 'F': ['morocco', 'croatia', 'belgium', 'canada'],\n",
       " 'G': ['brazil', 'serbia', 'switzerland', 'cameroon'],\n",
       " 'H': ['portugal', 'ghana', 'uruguay', 'south-korea']}"
      ]
     },
     "execution_count": 62,
     "metadata": {},
     "output_type": "execute_result"
    }
   ],
   "source": [
    "df = pd.read_csv('results.csv')\n",
    "with open('groups.json') as f:\n",
    "    groups = json.load(f)\n",
    "groups"
   ]
  },
  {
   "cell_type": "code",
   "execution_count": 63,
   "metadata": {},
   "outputs": [],
   "source": [
    "import matplotlib.pyplot as plt\n",
    "labels = [i for i in df[\"Team\"]]\n",
    "fig, ax = plt.subplots(figsize=(10,10))\n",
    "ax = sns.heatmap(data=df[[\"8th Finals\",\"4th Finals\", \"Semi Finals\", \"Final\", \"Winner\"]],vmin=0,vmax=1,linewidths=2, linewidth='.5',yticklabels=labels, annot=True, cmap=\"crest\")\n",
    "plt.savefig(f\"results.jpg\", dpi=1000 )\n",
    "plt.close()"
   ]
  },
  {
   "cell_type": "code",
   "execution_count": null,
   "metadata": {},
   "outputs": [],
   "source": [
    "import matplotlib.pyplot as plt\n",
    "for g in groups.keys():\n",
    "    df1 = df[df['Team'].isin(groups[g])]\n",
    "    labels = [i for i in df1[\"Team\"]]\n",
    "    fig, ax = plt.subplots(figsize=(10,10))\n",
    "    ax = sns.heatmap(data=df1[[\"1st Group\",\"2nd Group\"]],vmin=0,vmax=1,linewidths=2, linewidth='.5',yticklabels=labels, annot=True, cmap=\"crest\")\n",
    "    plt.savefig(f\"{g}.jpg\", dpi=1000 )\n",
    "    plt.close()"
   ]
  },
  {
   "cell_type": "code",
   "execution_count": null,
   "metadata": {},
   "outputs": [],
   "source": []
  },
  {
   "cell_type": "code",
   "execution_count": null,
   "metadata": {},
   "outputs": [],
   "source": []
  },
  {
   "cell_type": "code",
   "execution_count": null,
   "metadata": {},
   "outputs": [],
   "source": []
  },
  {
   "cell_type": "code",
   "execution_count": null,
   "metadata": {},
   "outputs": [],
   "source": []
  },
  {
   "cell_type": "code",
   "execution_count": null,
   "metadata": {},
   "outputs": [],
   "source": []
  }
 ],
 "metadata": {
  "kernelspec": {
   "display_name": "Python 3.9.7 ('base')",
   "language": "python",
   "name": "python3"
  },
  "language_info": {
   "codemirror_mode": {
    "name": "ipython",
    "version": 3
   },
   "file_extension": ".py",
   "mimetype": "text/x-python",
   "name": "python",
   "nbconvert_exporter": "python",
   "pygments_lexer": "ipython3",
   "version": "3.9.7"
  },
  "orig_nbformat": 4,
  "vscode": {
   "interpreter": {
    "hash": "588779d6ef7e6f81e2169a879779fc8e5995f47f76c0b461de7632fa84667fbc"
   }
  }
 },
 "nbformat": 4,
 "nbformat_minor": 2
}
